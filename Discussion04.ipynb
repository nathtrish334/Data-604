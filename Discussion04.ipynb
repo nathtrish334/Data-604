{
 "cells": [
  {
   "cell_type": "markdown",
   "metadata": {
    "id": "_Tj1byZXrSp4"
   },
   "source": [
    "**1.  Explain the balance equations from the rainwater harvesting paper posted to this week's reading.**"
   ]
  },
  {
   "cell_type": "code",
   "execution_count": 1,
   "metadata": {},
   "outputs": [
    {
     "data": {
      "image/png": "[encoded data removed]",
      "text/plain": [
       "<IPython.core.display.Image object>"
      ]
     },
     "execution_count": 1,
     "metadata": {
      "image/png": {
       "height": 800,
       "width": 800
      }
     },
     "output_type": "execute_result"
    }
   ],
   "source": [
    "from IPython.display import Image\n",
    "Image(filename = \"balance_eqns.png\", width=800, height=800)"
   ]
  },
  {
   "cell_type": "markdown",
   "metadata": {
    "id": "b9Nqmqq5rU53"
   },
   "source": [
    "\n",
    "\n",
    "In Equation 1, V(t) represents the volume of rainwater in the cistern on any given day indexed with t ∈ T  where t is a daily index.\n",
    "\n",
    "Equation 2 models tank capacity (Cap) with a minimum/maximum approach where the amount of overflow is ignored.\n",
    "\n",
    "The parameters of the equations are as follows:\n",
    "* C = captured supply of rainwater from the roof\n",
    "* D = demand for purified water\n",
    "* O = Overflow\n",
    "\n",
    "From equation 1, on a certain day, the volume of water in the cistern equals the maximum of 0 or the volume in the previous day plus captured rainwater minus the demand of the day (water used from the cistern) minus any overflow.\n",
    "\n",
    "Equation 2 assumes no overflow and states the volume in the cistern should be the minimum of the volume derived from equation 1 or the capacity of the tank."
   ]
  },
  {
   "cell_type": "markdown",
   "metadata": {
    "id": "96paB5cZuNAf"
   },
   "source": [
    "**2.  Share some code from last week that was particularly rewarding or frustrating.  We will comment on it.**"
   ]
  },
  {
   "cell_type": "code",
   "execution_count": 2,
   "metadata": {
    "colab": {
     "base_uri": "https://localhost:8080/",
     "height": 36
    },
    "id": "gp_ENmtGvVzn",
    "outputId": "7dfcb9ca-ba4d-4e74-beb9-6620be792b0b"
   },
   "outputs": [
    {
     "data": {
      "application/vnd.google.colaboratory.intrinsic+json": {
       "type": "string"
      },
      "text/plain": [
       "'g'"
      ]
     },
     "execution_count": 2,
     "metadata": {
      "tags": []
     },
     "output_type": "execute_result"
    }
   ],
   "source": [
    "# Code in chapter 6:\n",
    "\n",
    "# t_0 = get_first_label(census) t_end = get_last_label(census) elapsed_time = t_end - t_0\n",
    "# p_0 = get_first_value(census) p_end = get_last_value(census) total_growth = p_end - p_0\n",
    "\n",
    "# This method of calling objects is limited to only calling first and last objects. \n",
    "# The pythonic way is to use slicing.\n",
    "\n",
    "slicing = (\"s\", \"l\", \"i\", \"c\", \"i\", \"n\", \"g\")\n",
    "slicing[-1] # return the last object"
   ]
  }
 ],
 "metadata": {
  "colab": {
   "collapsed_sections": [],
   "name": "Discussion04.ipynb",
   "provenance": []
  },
  "kernelspec": {
   "display_name": "Python 3",
   "language": "python",
   "name": "python3"
  },
  "language_info": {
   "codemirror_mode": {
    "name": "ipython",
    "version": 3
   },
   "file_extension": ".py",
   "mimetype": "text/x-python",
   "name": "python",
   "nbconvert_exporter": "python",
   "pygments_lexer": "ipython3",
   "version": "3.8.8"
  }
 },
 "nbformat": 4,
 "nbformat_minor": 1
}
