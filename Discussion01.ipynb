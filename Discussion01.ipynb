{
  "nbformat": 4,
  "nbformat_minor": 0,
  "metadata": {
    "colab": {
      "name": "Discussion01.ipynb",
      "provenance": [],
      "collapsed_sections": []
    },
    "kernelspec": {
      "name": "python3",
      "display_name": "Python 3"
    },
    "language_info": {
      "name": "python"
    }
  },
  "cells": [
    {
      "cell_type": "code",
      "metadata": {
        "id": "qhWCH958fEOr"
      },
      "source": [
        "# Let figures appear in the notebook\n",
        "%matplotlib inline\n",
        "\n",
        "# Display the assigned value after an assignment\n",
        "%config InteractiveShell.ast_node_interactivity='all'\n",
        "\n",
        "# import library\n",
        "import random\n",
        "import numpy as np\n",
        "import matplotlib.pyplot as plt\n"
      ],
      "execution_count": 12,
      "outputs": []
    },
    {
      "cell_type": "markdown",
      "metadata": {
        "id": "z7w6sL7-gPDV"
      },
      "source": [
        "\n",
        "\n",
        "What is the probability that we come up with an odd sum if we roll 2 dies 1000 times?"
      ]
    },
    {
      "cell_type": "code",
      "metadata": {
        "colab": {
          "base_uri": "https://localhost:8080/",
          "height": 313
        },
        "id": "QUIvZsVJgyNf",
        "outputId": "351aeccb-eb74-4b4e-9a33-2093645d5cae"
      },
      "source": [
        "#Function to calculate probability\n",
        "def roll_die(n):\n",
        "    count=0\n",
        "    score=[]\n",
        "    for i in range(n):\n",
        "        die1=random.randint(1,6)\n",
        "        die2=random.randint(1,6)\n",
        "        total=die1+die2\n",
        "        score.append(total)\n",
        "        \n",
        "        if total%2==1:\n",
        "            count+=1\n",
        "    \n",
        "    print('The probability of an odd sum ', count/n)\n",
        "    \n",
        "    #Plot the total score with bin set to unique values in score\n",
        "    plt.hist(score, bins = 11, color = \"green\")\n",
        "    plt.xlabel('Sum of Dies')\n",
        "    plt.ylabel('Number of observations')\n",
        "    plt.title('Total scores for 1000 simulations')\n",
        "    plt.xticks(np.unique(score))\n",
        "\n",
        "#Run the function\n",
        "roll_die(1000)"
      ],
      "execution_count": 13,
      "outputs": [
        {
          "output_type": "stream",
          "text": [
            "The probability of an odd sum  0.521\n"
          ],
          "name": "stdout"
        },
        {
          "output_type": "display_data",
          "data": {
            "image/png": "[encoded data removed]",
            "text/plain": [
              "<Figure size 432x288 with 1 Axes>"
            ]
          },
          "metadata": {
            "tags": [],
            "needs_background": "light"
          }
        }
      ]
    }
  ]
}