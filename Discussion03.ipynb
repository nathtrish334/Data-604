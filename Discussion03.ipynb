{
  "nbformat": 4,
  "nbformat_minor": 0,
  "metadata": {
    "colab": {
      "name": "Discussion3.ipynb",
      "provenance": [],
      "collapsed_sections": []
    },
    "kernelspec": {
      "name": "python3",
      "display_name": "Python 3"
    },
    "language_info": {
      "name": "python"
    }
  },
  "cells": [
    {
      "cell_type": "markdown",
      "metadata": {
        "id": "Gp-88A-_3dw7"
      },
      "source": [
        "**1.  In simulation, what is verification?  What is validation?  How do they differ?**\n",
        "\n",
        "Validation is the process of comparing two results. Here, the conceptual model is compared to the real system. If the comparison is true, then it is valid, else invalid.\n",
        "\n",
        "Verification is the process of comparing two or more results to ensure its accuracy. Here, we have to compare the model’s implementation and its associated data with the developer's conceptual description and specifications."
      ]
    },
    {
      "cell_type": "markdown",
      "metadata": {
        "id": "6IrQw6mJ4idR"
      },
      "source": [
        "**What was done in the assigned simulation journal reading to conduct V&V?**\n",
        "\n",
        "from the journal reading, General Algebraic\n",
        "Modeling System (GAMS) was used to simulate and optimize a model on relocation of deployable military hospitals. The model validation based on realistic historical data from Operation Iraqi Freedom. In estimating the\n",
        "number of runs required, the variable of interest was the\n",
        "minimum time required to traverse the network from evacuation site to patient pick-up to hospital.\n",
        "\n",
        "As statd in the article:\n",
        "'The network model is built around an intuitive objective function, one that is derived from military doctrine.'This implies there has been discussions with the client while being designed."
      ]
    },
    {
      "cell_type": "markdown",
      "metadata": {
        "id": "q--W4hb46ltR"
      },
      "source": [
        "**2.  Share some code from last week that was particularly rewarding or frustrating.  We will comment on it.**\n",
        "\n",
        "```\n",
        "def run_multiple_simulations(p1, p2, num_steps, num_runs):#takes as parameter no of runs for simulation results = TimeSeries()\n",
        "\n",
        "for i in range(num_runs):\n",
        "    state = run_simulation(p1, p2, num_steps) #runs the simulation for num_runs\n",
        "    results[i] = state.olin_empty + state.wellesley_empty #total unhappy customers for both\n",
        "\n",
        "return results, results.mean()\n",
        "```\n",
        "\n"
      ]
    },
    {
      "cell_type": "markdown",
      "metadata": {
        "id": "uH4Ry6AC8kI5"
      },
      "source": [
        "The above code is very rewarding because it saves the results of running the simualtion a number of times, allowing to easily compare how the results are changing."
      ]
    }
  ]
}