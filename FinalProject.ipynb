{
 "cells": [
  {
   "cell_type": "markdown",
   "metadata": {
    "id": "LSfJOKWK0rUN"
   },
   "source": [
    "**Data 604 Final Project: Queuing at Airport Terminals**\n",
    "\n",
    "Trishita Nath\n",
    "\n",
    "18th July 2021"
   ]
  },
  {
   "cell_type": "markdown",
   "metadata": {
    "id": "_sPre1l700rJ"
   },
   "source": [
    "**Problem Statement and its significance**\n",
    "\n",
    "One of the key factors that determines the quality of services offered at airport terminals is the wait time experienced when undergoing security screening. With the emergence of COVID-19, airport terminals have also become points for Corona Virus testing.\n",
    "\n",
    "In this project, I will be simulating a hypothetical airport terminal that provides two services:\n",
    "1.   Security screening\n",
    "2.   COVID testing\n",
    "\n",
    "These services are accessed by only one queue, but the service time is as follow:\n",
    "*   Security screening services follow a triangular model with a mean of 4mins, a lower end of 3 mins, and an upper value of 5 mins\n",
    "*   COVID services follow a triangular model with a mean of 15 mins, with a low of 10 and high of 20\n",
    "\n",
    "Traveller arrival rate is generated randomly using an exponential distribution with an arrival rate of 5 to 10 customers every hour. Each run of the simulation covers 24 hours (Airport terminals are open all day)"
   ]
  },
  {
   "cell_type": "markdown",
   "metadata": {
    "id": "rEq4tY2t4DMQ"
   },
   "source": [
    "**Flow Chart Model**\n",
    "\n"
   ]
  },
  {
   "cell_type": "markdown",
   "metadata": {
    "id": "Qvln-1bu4S4b"
   },
   "source": [
    "**Simulate the process for the appropriate number of iterations**"
   ]
  },
  {
   "cell_type": "code",
   "execution_count": 1,
   "metadata": {
    "colab": {
     "base_uri": "https://localhost:8080/",
     "height": 374
    },
    "id": "-IYfK3ac4hpD",
    "outputId": "81aef71d-6d62-4766-eea5-62a8adda8bde"
   },
   "outputs": [
    {
     "name": "stdout",
     "output_type": "stream",
     "text": [
      "Requirement already satisfied: simpy in c:\\users\\happy\\anaconda3\\lib\\site-packages (4.0.1)\n"
     ]
    }
   ],
   "source": [
    "# Configure Jupyter so figures appear in the notebook\n",
    "%matplotlib inline\n",
    "\n",
    "# Configure Jupyter to display the assigned value after an assignment\n",
    "%config InteractiveShell.ast_node_interactivity='last_expr_or_assign'\n",
    "\n",
    "# import functions from the modsim.py module\n",
    "from modsim import *\n",
    "!pip install simpy"
   ]
  },
  {
   "cell_type": "code",
   "execution_count": 2,
   "metadata": {
    "colab": {
     "base_uri": "https://localhost:8080/",
     "height": 393
    },
    "id": "IgrbCxE54t6b",
    "outputId": "e29f1dfb-4453-4d3b-d3db-4a785eeb4cb0"
   },
   "outputs": [],
   "source": [
    "#Import required libraries\n",
    "import simpy\n",
    "import numpy as np\n",
    "import pandas as pd\n",
    "import random"
   ]
  },
  {
   "cell_type": "code",
   "execution_count": 3,
   "metadata": {
    "id": "J3PSUD6Z4yyG"
   },
   "outputs": [
    {
     "data": {
      "text/html": [
       "<div>\n",
       "<style scoped>\n",
       "    .dataframe tbody tr th:only-of-type {\n",
       "        vertical-align: middle;\n",
       "    }\n",
       "\n",
       "    .dataframe tbody tr th {\n",
       "        vertical-align: top;\n",
       "    }\n",
       "\n",
       "    .dataframe thead th {\n",
       "        text-align: right;\n",
       "    }\n",
       "</style>\n",
       "<table border=\"1\" class=\"dataframe\">\n",
       "  <thead>\n",
       "    <tr style=\"text-align: right;\">\n",
       "      <th></th>\n",
       "      <th>Traveller Id</th>\n",
       "      <th>Service</th>\n",
       "      <th>Arrival Time</th>\n",
       "      <th>Token Time</th>\n",
       "      <th>Service Start Time</th>\n",
       "      <th>Service Stop Time</th>\n",
       "    </tr>\n",
       "  </thead>\n",
       "  <tbody>\n",
       "  </tbody>\n",
       "</table>\n",
       "</div>"
      ],
      "text/plain": [
       "Empty DataFrame\n",
       "Columns: [Traveller Id, Service, Arrival Time, Token Time, Service Start Time, Service Stop Time]\n",
       "Index: []"
      ]
     },
     "execution_count": 3,
     "metadata": {},
     "output_type": "execute_result"
    }
   ],
   "source": [
    "# Seed and simulation time\n",
    "seed = 500\n",
    "simulation_time = 24 # Airport operational hours\n",
    "\n",
    "np.random.seed(seed)\n",
    "# global report variable\n",
    "report = pd.DataFrame(columns = ['Traveller Id', 'Service', 'Arrival Time', 'Token Time', 'Service Start Time', 'Service Stop Time'])"
   ]
  },
  {
   "cell_type": "code",
   "execution_count": 4,
   "metadata": {
    "id": "F0A7YUD95W1M"
   },
   "outputs": [],
   "source": [
    "#Function to generate arrival, 5 to 10 travellers every hour (busy airport)\n",
    "def generate_interarrival(): #Arrival rate 1 - 20 per hour\n",
    "    return np.random.exponential(60.0/np.random.randint(40,80))"
   ]
  },
  {
   "cell_type": "code",
   "execution_count": 5,
   "metadata": {
    "id": "8sDLzZpz6Ibd"
   },
   "outputs": [],
   "source": [
    "#Function to return time generated for security scanning service\n",
    "def security_service():\n",
    "    return np.random.triangular(3,4,5)"
   ]
  },
  {
   "cell_type": "code",
   "execution_count": 6,
   "metadata": {
    "id": "1I3Pwyz-6VxR"
   },
   "outputs": [],
   "source": [
    "#Function to return time generated for COVID testing servive\n",
    "def covid_service():\n",
    "    return np.random.triangular(10,15,20)"
   ]
  },
  {
   "cell_type": "code",
   "execution_count": 7,
   "metadata": {
    "id": "6ZDrDLir6cSc"
   },
   "outputs": [],
   "source": [
    "def airport_run(env,  security, covid):\n",
    "    global current_hour\n",
    "    i = 0 # traveller counter\n",
    "    while True: #running time = 24 hours\n",
    "\n",
    "        Service = np.random.choice(['Security', 'COVID'], p=[0.85, 0.15]) #random.choices(services, weights=(10, 90)   \n",
    "        i += 1\n",
    "        yield env.timeout(generate_interarrival())\n",
    "        env.process(traveller(env, i,  security, covid, Service))"
   ]
  },
  {
   "cell_type": "code",
   "execution_count": 8,
   "metadata": {
    "id": "6CJ1Lr4L7eV_"
   },
   "outputs": [],
   "source": [
    "#function generates report for each traveller\n",
    "def traveller(env, traveller, security, covid, Service):\n",
    "    \n",
    "    global report #access the global variable\n",
    "\n",
    "    if Service == 'COVID':\n",
    "        req = covid\n",
    "    else:\n",
    "        req = security\n",
    "    \n",
    "    with covid.request() as request:\n",
    "        arrival_time = env.now #starts the clock\n",
    "        #print(arrival_time, '\\tCustomer {} arrives'.format(customer))\n",
    "        yield env.timeout(1/2) # Token generation time of 30 seconds\n",
    "        token_time = env.now #records time at which token is taken\n",
    "        #print(token_time, '\\tCustomer {} took a token'.format(customer))\n",
    "        yield request\n",
    "        service_start_time = env.now #service starts \n",
    "        #print(service_start_time, '\\tCustomer {} is being served at {}'.format(customer, Service))\n",
    "        if Service == 'COVID':\n",
    "            yield env.timeout(covid_service())\n",
    "        else:\n",
    "            yield env.timeout(security_service())\n",
    "        service_stop_time = env.now \n",
    "        #record the data generated\n",
    "        row = pd.DataFrame([['Traveller_{}'.format(traveller), Service, arrival_time, token_time, service_start_time, service_stop_time]],\n",
    "                          columns = ['Traveller Id', 'Service', 'Arrival Time', 'Token Time','Service Start Time', 'Service Stop Time'])\n",
    "       \n",
    "        report = report.append(row, ignore_index = True, sort = False)\n",
    "        #Calculations for wait time\n",
    "        report['Token Time (Secs)'] =  60 * ( report['Token Time'] - report['Arrival Time'])\n",
    "        report['Service Time (Mins)'] =  (report['Service Stop Time'] - report['Service Start Time'])\n",
    "        report['Wait Time (Mins)'] =  ( report['Service Start Time'] - report['Token Time'] )"
   ]
  },
  {
   "cell_type": "code",
   "execution_count": 9,
   "metadata": {
    "id": "s9W3_jIL8jh4"
   },
   "outputs": [],
   "source": [
    "#Running it in a model\n",
    "def model(nruns, nsecurity, ncovid): #pass in no of runs for simulation, security capacity, covid capacity\n",
    "    #initialise\n",
    "    Security=[] \n",
    "    COVID=[]\n",
    "    avg_wait_time = []\n",
    "    covid_wait_time = []\n",
    "    security_wait_time = []\n",
    "    global report\n",
    "    for j in range(nruns):\n",
    "        report = report[0:0]\n",
    "        env = simpy.Environment()\n",
    "        env.initial_time = 0\n",
    "        # resource\n",
    "        security = simpy.Resource(env, capacity=nsecurity) #assign security as resource\n",
    "        covid = simpy.Resource(env, capacity=ncovid) #assign covid as resource\n",
    "        env.process(airport_run(env, security, covid))\n",
    "        env.run(until = 12 * 60) #run for 12 hours\n",
    "        \n",
    "        \n",
    "        COVID=report[report.Service.isin(['COVID'])] #separate to calculate mean later\n",
    "        Security=report[report.Service.isin(['Security'])]\n",
    "    \n",
    "        avg_wait=report['Wait Time (Mins)'].mean() #Calculate average time\n",
    "        avg_wait_security=Security['Wait Time (Mins)'].mean()\n",
    "        avg_wait_covid=COVID['Wait Time (Mins)'].mean()\n",
    "    \n",
    "        #print('Average wait time:', avg_wait)\n",
    "        #print('Average wait time teller:', avg_wait_teller)\n",
    "        #print('Average wait time exchange:', avg_wait_exchange)\n",
    "    \n",
    "        avg_wait_time.append(avg_wait)\n",
    "        covid_wait_time.append(avg_wait_covid)\n",
    "        security_wait_time.append(avg_wait_security)\n",
    "        \n",
    "    #Save in a dataframe\n",
    "    new_dict = {\"avg_wait\": avg_wait_time, \"covid_wait\": covid_wait_time, \"security_wait\": security_wait_time }\n",
    "    \n",
    "    global new_df\n",
    "    new_df = pd.DataFrame(new_dict)\n",
    "    fig=new_df.boxplot(grid=False, widths=0.5)\n",
    "    return new_df\n",
    "    return fig"
   ]
  },
  {
   "cell_type": "code",
   "execution_count": 10,
   "metadata": {
    "id": "TMcE1j7G-myx"
   },
   "outputs": [
    {
     "data": {
      "text/html": [
       "<div>\n",
       "<style scoped>\n",
       "    .dataframe tbody tr th:only-of-type {\n",
       "        vertical-align: middle;\n",
       "    }\n",
       "\n",
       "    .dataframe tbody tr th {\n",
       "        vertical-align: top;\n",
       "    }\n",
       "\n",
       "    .dataframe thead th {\n",
       "        text-align: right;\n",
       "    }\n",
       "</style>\n",
       "<table border=\"1\" class=\"dataframe\">\n",
       "  <thead>\n",
       "    <tr style=\"text-align: right;\">\n",
       "      <th></th>\n",
       "      <th>avg_wait</th>\n",
       "      <th>covid_wait</th>\n",
       "      <th>security_wait</th>\n",
       "    </tr>\n",
       "  </thead>\n",
       "  <tbody>\n",
       "    <tr>\n",
       "      <th>0</th>\n",
       "      <td>254.507645</td>\n",
       "      <td>306.560646</td>\n",
       "      <td>249.342080</td>\n",
       "    </tr>\n",
       "    <tr>\n",
       "      <th>1</th>\n",
       "      <td>301.584878</td>\n",
       "      <td>263.998205</td>\n",
       "      <td>307.501299</td>\n",
       "    </tr>\n",
       "    <tr>\n",
       "      <th>2</th>\n",
       "      <td>273.252293</td>\n",
       "      <td>289.849004</td>\n",
       "      <td>270.560934</td>\n",
       "    </tr>\n",
       "    <tr>\n",
       "      <th>3</th>\n",
       "      <td>258.789948</td>\n",
       "      <td>275.433294</td>\n",
       "      <td>255.915189</td>\n",
       "    </tr>\n",
       "    <tr>\n",
       "      <th>4</th>\n",
       "      <td>288.321968</td>\n",
       "      <td>274.037698</td>\n",
       "      <td>291.068943</td>\n",
       "    </tr>\n",
       "    <tr>\n",
       "      <th>5</th>\n",
       "      <td>288.042268</td>\n",
       "      <td>307.301504</td>\n",
       "      <td>284.190421</td>\n",
       "    </tr>\n",
       "    <tr>\n",
       "      <th>6</th>\n",
       "      <td>269.872651</td>\n",
       "      <td>307.069251</td>\n",
       "      <td>263.205336</td>\n",
       "    </tr>\n",
       "    <tr>\n",
       "      <th>7</th>\n",
       "      <td>292.928244</td>\n",
       "      <td>282.193028</td>\n",
       "      <td>294.799520</td>\n",
       "    </tr>\n",
       "    <tr>\n",
       "      <th>8</th>\n",
       "      <td>272.152124</td>\n",
       "      <td>330.239432</td>\n",
       "      <td>262.646928</td>\n",
       "    </tr>\n",
       "    <tr>\n",
       "      <th>9</th>\n",
       "      <td>289.398641</td>\n",
       "      <td>292.771715</td>\n",
       "      <td>288.625645</td>\n",
       "    </tr>\n",
       "    <tr>\n",
       "      <th>10</th>\n",
       "      <td>288.445239</td>\n",
       "      <td>298.095913</td>\n",
       "      <td>286.866038</td>\n",
       "    </tr>\n",
       "    <tr>\n",
       "      <th>11</th>\n",
       "      <td>309.533252</td>\n",
       "      <td>283.645910</td>\n",
       "      <td>315.657139</td>\n",
       "    </tr>\n",
       "    <tr>\n",
       "      <th>12</th>\n",
       "      <td>305.652926</td>\n",
       "      <td>252.280919</td>\n",
       "      <td>318.995928</td>\n",
       "    </tr>\n",
       "    <tr>\n",
       "      <th>13</th>\n",
       "      <td>296.077457</td>\n",
       "      <td>269.341845</td>\n",
       "      <td>300.869689</td>\n",
       "    </tr>\n",
       "  </tbody>\n",
       "</table>\n",
       "</div>"
      ],
      "text/plain": [
       "      avg_wait  covid_wait  security_wait\n",
       "0   254.507645  306.560646     249.342080\n",
       "1   301.584878  263.998205     307.501299\n",
       "2   273.252293  289.849004     270.560934\n",
       "3   258.789948  275.433294     255.915189\n",
       "4   288.321968  274.037698     291.068943\n",
       "5   288.042268  307.301504     284.190421\n",
       "6   269.872651  307.069251     263.205336\n",
       "7   292.928244  282.193028     294.799520\n",
       "8   272.152124  330.239432     262.646928\n",
       "9   289.398641  292.771715     288.625645\n",
       "10  288.445239  298.095913     286.866038\n",
       "11  309.533252  283.645910     315.657139\n",
       "12  305.652926  252.280919     318.995928\n",
       "13  296.077457  269.341845     300.869689"
      ]
     },
     "execution_count": 10,
     "metadata": {},
     "output_type": "execute_result"
    },
    {
     "data": {
      "image/png": "[encoded data removed]",
      "text/plain": [
       "<Figure size 432x288 with 1 Axes>"
      ]
     },
     "metadata": {},
     "output_type": "display_data"
    }
   ],
   "source": [
    "np.random.seed(5000)\n",
    "model(14,5,1) # running the simulation 14 times to simulate 2 weeks"
   ]
  },
  {
   "cell_type": "markdown",
   "metadata": {
    "id": "HksjZp9B_doE"
   },
   "source": [
    "**Verification and Validation**\n",
    "\n",
    "I verified by printing and checking intermediate outputs while writing the code. Each run of the simulation generates a report like the one below. The service stop time is compares with the service start of the next traveller and do not overlap.\n",
    "\n",
    "Validation is a bit hard here because I am working on a hypothetical situation and I do not have a dataset to compare the results to. However, the flow of the travellers in the report losely mimics the actual wait times experienced in a typical airport.\n"
   ]
  },
  {
   "cell_type": "code",
   "execution_count": 11,
   "metadata": {
    "id": "sN6Pf3wNAgzJ"
   },
   "outputs": [
    {
     "data": {
      "text/html": [
       "<div>\n",
       "<style scoped>\n",
       "    .dataframe tbody tr th:only-of-type {\n",
       "        vertical-align: middle;\n",
       "    }\n",
       "\n",
       "    .dataframe tbody tr th {\n",
       "        vertical-align: top;\n",
       "    }\n",
       "\n",
       "    .dataframe thead th {\n",
       "        text-align: right;\n",
       "    }\n",
       "</style>\n",
       "<table border=\"1\" class=\"dataframe\">\n",
       "  <thead>\n",
       "    <tr style=\"text-align: right;\">\n",
       "      <th></th>\n",
       "      <th>Traveller Id</th>\n",
       "      <th>Service</th>\n",
       "      <th>Arrival Time</th>\n",
       "      <th>Token Time</th>\n",
       "      <th>Service Start Time</th>\n",
       "      <th>Service Stop Time</th>\n",
       "      <th>Token Time (Secs)</th>\n",
       "      <th>Service Time (Mins)</th>\n",
       "      <th>Wait Time (Mins)</th>\n",
       "    </tr>\n",
       "  </thead>\n",
       "  <tbody>\n",
       "    <tr>\n",
       "      <th>0</th>\n",
       "      <td>Traveller_1</td>\n",
       "      <td>Security</td>\n",
       "      <td>0.428879</td>\n",
       "      <td>0.928879</td>\n",
       "      <td>0.928879</td>\n",
       "      <td>4.983967</td>\n",
       "      <td>30.0</td>\n",
       "      <td>4.055088</td>\n",
       "      <td>0.000000</td>\n",
       "    </tr>\n",
       "    <tr>\n",
       "      <th>1</th>\n",
       "      <td>Traveller_2</td>\n",
       "      <td>Security</td>\n",
       "      <td>0.585554</td>\n",
       "      <td>1.085554</td>\n",
       "      <td>4.983967</td>\n",
       "      <td>9.416074</td>\n",
       "      <td>30.0</td>\n",
       "      <td>4.432107</td>\n",
       "      <td>3.898413</td>\n",
       "    </tr>\n",
       "    <tr>\n",
       "      <th>2</th>\n",
       "      <td>Traveller_3</td>\n",
       "      <td>Security</td>\n",
       "      <td>1.228526</td>\n",
       "      <td>1.728526</td>\n",
       "      <td>9.416074</td>\n",
       "      <td>13.667301</td>\n",
       "      <td>30.0</td>\n",
       "      <td>4.251227</td>\n",
       "      <td>7.687548</td>\n",
       "    </tr>\n",
       "    <tr>\n",
       "      <th>3</th>\n",
       "      <td>Traveller_4</td>\n",
       "      <td>COVID</td>\n",
       "      <td>1.732747</td>\n",
       "      <td>2.232747</td>\n",
       "      <td>13.667301</td>\n",
       "      <td>30.130449</td>\n",
       "      <td>30.0</td>\n",
       "      <td>16.463147</td>\n",
       "      <td>11.434555</td>\n",
       "    </tr>\n",
       "    <tr>\n",
       "      <th>4</th>\n",
       "      <td>Traveller_5</td>\n",
       "      <td>Security</td>\n",
       "      <td>2.673187</td>\n",
       "      <td>3.173187</td>\n",
       "      <td>30.130449</td>\n",
       "      <td>34.288565</td>\n",
       "      <td>30.0</td>\n",
       "      <td>4.158116</td>\n",
       "      <td>26.957262</td>\n",
       "    </tr>\n",
       "    <tr>\n",
       "      <th>...</th>\n",
       "      <td>...</td>\n",
       "      <td>...</td>\n",
       "      <td>...</td>\n",
       "      <td>...</td>\n",
       "      <td>...</td>\n",
       "      <td>...</td>\n",
       "      <td>...</td>\n",
       "      <td>...</td>\n",
       "      <td>...</td>\n",
       "    </tr>\n",
       "    <tr>\n",
       "      <th>120</th>\n",
       "      <td>Traveller_121</td>\n",
       "      <td>Security</td>\n",
       "      <td>132.624283</td>\n",
       "      <td>133.124283</td>\n",
       "      <td>684.290031</td>\n",
       "      <td>688.580175</td>\n",
       "      <td>30.0</td>\n",
       "      <td>4.290144</td>\n",
       "      <td>551.165748</td>\n",
       "    </tr>\n",
       "    <tr>\n",
       "      <th>121</th>\n",
       "      <td>Traveller_122</td>\n",
       "      <td>Security</td>\n",
       "      <td>133.101501</td>\n",
       "      <td>133.601501</td>\n",
       "      <td>688.580175</td>\n",
       "      <td>693.211599</td>\n",
       "      <td>30.0</td>\n",
       "      <td>4.631424</td>\n",
       "      <td>554.978674</td>\n",
       "    </tr>\n",
       "    <tr>\n",
       "      <th>122</th>\n",
       "      <td>Traveller_123</td>\n",
       "      <td>COVID</td>\n",
       "      <td>133.766469</td>\n",
       "      <td>134.266469</td>\n",
       "      <td>693.211599</td>\n",
       "      <td>709.610775</td>\n",
       "      <td>30.0</td>\n",
       "      <td>16.399176</td>\n",
       "      <td>558.945130</td>\n",
       "    </tr>\n",
       "    <tr>\n",
       "      <th>123</th>\n",
       "      <td>Traveller_124</td>\n",
       "      <td>Security</td>\n",
       "      <td>134.013557</td>\n",
       "      <td>134.513557</td>\n",
       "      <td>709.610775</td>\n",
       "      <td>713.386759</td>\n",
       "      <td>30.0</td>\n",
       "      <td>3.775984</td>\n",
       "      <td>575.097218</td>\n",
       "    </tr>\n",
       "    <tr>\n",
       "      <th>124</th>\n",
       "      <td>Traveller_125</td>\n",
       "      <td>Security</td>\n",
       "      <td>135.742762</td>\n",
       "      <td>136.242762</td>\n",
       "      <td>713.386759</td>\n",
       "      <td>717.862580</td>\n",
       "      <td>30.0</td>\n",
       "      <td>4.475821</td>\n",
       "      <td>577.143997</td>\n",
       "    </tr>\n",
       "  </tbody>\n",
       "</table>\n",
       "<p>125 rows × 9 columns</p>\n",
       "</div>"
      ],
      "text/plain": [
       "      Traveller Id   Service  Arrival Time  Token Time  Service Start Time  \\\n",
       "0      Traveller_1  Security      0.428879    0.928879            0.928879   \n",
       "1      Traveller_2  Security      0.585554    1.085554            4.983967   \n",
       "2      Traveller_3  Security      1.228526    1.728526            9.416074   \n",
       "3      Traveller_4     COVID      1.732747    2.232747           13.667301   \n",
       "4      Traveller_5  Security      2.673187    3.173187           30.130449   \n",
       "..             ...       ...           ...         ...                 ...   \n",
       "120  Traveller_121  Security    132.624283  133.124283          684.290031   \n",
       "121  Traveller_122  Security    133.101501  133.601501          688.580175   \n",
       "122  Traveller_123     COVID    133.766469  134.266469          693.211599   \n",
       "123  Traveller_124  Security    134.013557  134.513557          709.610775   \n",
       "124  Traveller_125  Security    135.742762  136.242762          713.386759   \n",
       "\n",
       "     Service Stop Time  Token Time (Secs)  Service Time (Mins)  \\\n",
       "0             4.983967               30.0             4.055088   \n",
       "1             9.416074               30.0             4.432107   \n",
       "2            13.667301               30.0             4.251227   \n",
       "3            30.130449               30.0            16.463147   \n",
       "4            34.288565               30.0             4.158116   \n",
       "..                 ...                ...                  ...   \n",
       "120         688.580175               30.0             4.290144   \n",
       "121         693.211599               30.0             4.631424   \n",
       "122         709.610775               30.0            16.399176   \n",
       "123         713.386759               30.0             3.775984   \n",
       "124         717.862580               30.0             4.475821   \n",
       "\n",
       "     Wait Time (Mins)  \n",
       "0            0.000000  \n",
       "1            3.898413  \n",
       "2            7.687548  \n",
       "3           11.434555  \n",
       "4           26.957262  \n",
       "..                ...  \n",
       "120        551.165748  \n",
       "121        554.978674  \n",
       "122        558.945130  \n",
       "123        575.097218  \n",
       "124        577.143997  \n",
       "\n",
       "[125 rows x 9 columns]"
      ]
     },
     "execution_count": 11,
     "metadata": {},
     "output_type": "execute_result"
    }
   ],
   "source": [
    "report"
   ]
  },
  {
   "cell_type": "code",
   "execution_count": 12,
   "metadata": {
    "id": "oVfltGQ8AnqS"
   },
   "outputs": [
    {
     "name": "stdout",
     "output_type": "stream",
     "text": [
      "Avg wait: 296.07745707285994\n",
      "Avg covid wait: 269.3418447634796\n",
      "Avg security wait: 300.8696894679376\n"
     ]
    }
   ],
   "source": [
    "# Verifying the output during each run\n",
    "print('Avg wait:',report['Wait Time (Mins)'].mean())\n",
    "COVID=report[report.Service.isin(['COVID'])]\n",
    "print('Avg covid wait:',COVID['Wait Time (Mins)'].mean())\n",
    "Security=report[report.Service.isin(['Security'])]\n",
    "print('Avg security wait:',Security['Wait Time (Mins)'].mean())"
   ]
  },
  {
   "cell_type": "markdown",
   "metadata": {
    "id": "UGZtuXsFA_Yx"
   },
   "source": [
    "\n",
    "**Conclusions/ findings from the model**\n",
    "\n",
    "An average wait time of more than an hour is long and renders the system sluggish in serving travellers.\n",
    "\n",
    "I ran the simulation multiple times and below are the findings.\n"
   ]
  },
  {
   "cell_type": "code",
   "execution_count": 13,
   "metadata": {},
   "outputs": [
    {
     "data": {
      "text/plain": [
       "<AxesSubplot:ylabel='Frequency'>"
      ]
     },
     "execution_count": 13,
     "metadata": {},
     "output_type": "execute_result"
    },
    {
     "data": {
      "image/png": "[encoded data removed]",
      "text/plain": [
       "<Figure size 432x288 with 1 Axes>"
      ]
     },
     "metadata": {},
     "output_type": "display_data"
    }
   ],
   "source": [
    "report['Wait Time (Mins)'].plot.hist(width = 1.2)"
   ]
  },
  {
   "cell_type": "code",
   "execution_count": 14,
   "metadata": {},
   "outputs": [
    {
     "data": {
      "text/plain": [
       "<AxesSubplot:>"
      ]
     },
     "execution_count": 14,
     "metadata": {},
     "output_type": "execute_result"
    },
    {
     "data": {
      "image/png": "[encoded data removed]",
      "text/plain": [
       "<Figure size 612x648 with 1 Axes>"
      ]
     },
     "metadata": {},
     "output_type": "display_data"
    }
   ],
   "source": [
    "report['Wait Time (Mins)'].plot.bar(figsize=(8.5,9))"
   ]
  },
  {
   "cell_type": "code",
   "execution_count": 15,
   "metadata": {},
   "outputs": [
    {
     "data": {
      "text/plain": [
       "<AxesSubplot:>"
      ]
     },
     "execution_count": 15,
     "metadata": {},
     "output_type": "execute_result"
    },
    {
     "data": {
      "image/png": "[encoded data removed]",
      "text/plain": [
       "<Figure size 360x360 with 1 Axes>"
      ]
     },
     "metadata": {},
     "output_type": "display_data"
    }
   ],
   "source": [
    "new_df['avg_wait'].plot.bar(figsize=(5,5))"
   ]
  },
  {
   "cell_type": "code",
   "execution_count": 16,
   "metadata": {},
   "outputs": [
    {
     "data": {
      "text/plain": [
       "<AxesSubplot:>"
      ]
     },
     "execution_count": 16,
     "metadata": {},
     "output_type": "execute_result"
    },
    {
     "data": {
      "image/png": "[encoded data removed]",
      "text/plain": [
       "<Figure size 432x288 with 1 Axes>"
      ]
     },
     "metadata": {},
     "output_type": "display_data"
    }
   ],
   "source": [
    "new_df.boxplot(grid=False, widths=0.5)"
   ]
  },
  {
   "cell_type": "markdown",
   "metadata": {},
   "source": [
    "**Presentation**\n",
    "\n",
    "My Powerpoint presentation is found on github: https://github.com/nathtrish334/Data-604/blob/main/Presentation.pptx"
   ]
  },
  {
   "cell_type": "code",
   "execution_count": null,
   "metadata": {},
   "outputs": [],
   "source": []
  }
 ],
 "metadata": {
  "colab": {
   "collapsed_sections": [],
   "name": "FinalProject.ipynb",
   "provenance": []
  },
  "kernelspec": {
   "display_name": "Python 3",
   "language": "python",
   "name": "python3"
  },
  "language_info": {
   "codemirror_mode": {
    "name": "ipython",
    "version": 3
   },
   "file_extension": ".py",
   "mimetype": "text/x-python",
   "name": "python",
   "nbconvert_exporter": "python",
   "pygments_lexer": "ipython3",
   "version": "3.8.8"
  }
 },
 "nbformat": 4,
 "nbformat_minor": 1
}
